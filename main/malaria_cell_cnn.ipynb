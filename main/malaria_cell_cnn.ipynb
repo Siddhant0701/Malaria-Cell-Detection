{
 "cells": [
  {
   "cell_type": "code",
   "execution_count": 2,
   "metadata": {},
   "outputs": [
    {
     "name": "stderr",
     "output_type": "stream",
     "text": [
      "C:\\Users\\mahaj\\AppData\\Roaming\\Python\\Python39\\site-packages\\tqdm\\auto.py:22: TqdmWarning: IProgress not found. Please update jupyter and ipywidgets. See https://ipywidgets.readthedocs.io/en/stable/user_install.html\n",
      "  from .autonotebook import tqdm as notebook_tqdm\n"
     ]
    }
   ],
   "source": [
    "import tensorflow as tf\n",
    "import tensorflow_datasets as tfds\n",
    "from tensorflow import keras\n",
    "import matplotlib.pyplot as plt\n",
    "import numpy as np"
   ]
  },
  {
   "cell_type": "code",
   "execution_count": 3,
   "metadata": {},
   "outputs": [],
   "source": [
    "(training_images, training_labels), train_info = tfds.load(name='malaria', split='train[:80%]', batch_size=-1, with_info=True, as_supervised=True)\n",
    "(validation_images, validation_labels), validation_info = tfds.load(name='malaria', split='train[80%:90%]', batch_size=-1, with_info=True, as_supervised=True)\n",
    "(test_images, test_labels), test_info = tfds.load(name='malaria', split='train[90%:]', batch_size=-1, with_info=True, as_supervised=True)"
   ]
  },
  {
   "cell_type": "code",
   "execution_count": 16,
   "metadata": {},
   "outputs": [
    {
     "data": {
      "image/png": "[encoded data removed]",
      "text/plain": [
       "<Figure size 432x288 with 1 Axes>"
      ]
     },
     "metadata": {
      "needs_background": "light"
     },
     "output_type": "display_data"
    },
    {
     "data": {
      "image/png": "[encoded data removed]",
      "text/plain": [
       "<Figure size 432x288 with 1 Axes>"
      ]
     },
     "metadata": {
      "needs_background": "light"
     },
     "output_type": "display_data"
    },
    {
     "data": {
      "image/png": "[encoded data removed]",
      "text/plain": [
       "<Figure size 432x288 with 1 Axes>"
      ]
     },
     "metadata": {
      "needs_background": "light"
     },
     "output_type": "display_data"
    }
   ],
   "source": [
    "classes = {0: 'Infected', 1: 'Healthy'}\n",
    "\n",
    "plt.hist(list(map(lambda x: classes[x] , training_labels.numpy())), bins=3, rwidth=0.9)\n",
    "plt.title('Training Set')\n",
    "plt.ylabel('Count')\n",
    "plt.xlabel('Cell type')\n",
    "plt.show()\n",
    "\n",
    "plt.hist(list(map(lambda x: classes[x] , validation_labels.numpy())), bins=3, rwidth=0.9)\n",
    "plt.title('Validation set')\n",
    "plt.ylabel('Count')\n",
    "plt.xlabel('Cell type')\n",
    "plt.show()\n",
    "\n",
    "plt.hist(list(map(lambda x: classes[x] , test_labels.numpy())), bins=3, rwidth=0.9)\n",
    "plt.title('Test set')\n",
    "plt.ylabel('Count')\n",
    "plt.xlabel('Cell type')\n",
    "plt.show()"
   ]
  },
  {
   "cell_type": "code",
   "execution_count": 5,
   "metadata": {},
   "outputs": [],
   "source": [
    "classes = {\n",
    "    0: 'Infected',\n",
    "    1: 'Healthy'\n",
    "}"
   ]
  },
  {
   "cell_type": "code",
   "execution_count": 108,
   "metadata": {},
   "outputs": [],
   "source": [
    "## HYPERPARAMETERS\n",
    "\n",
    "BATCH_SIZE = 16\n",
    "EPOCHS = 5\n",
    "\n",
    "LR = 0.001\n",
    "\n",
    "LOSS = 'binary_crossentropy'\n",
    "OPTIMIZER = keras.optimizers.Adam(learning_rate=LR)\n",
    "\n",
    "HEIGHT = 300\n",
    "WIDTH = 300"
   ]
  },
  {
   "cell_type": "code",
   "execution_count": 109,
   "metadata": {},
   "outputs": [],
   "source": [
    "model = keras.models.Sequential([\n",
    "    keras.layers.Resizing(input_shape=(None, None, 3), height=HEIGHT, width=WIDTH ),\n",
    "\n",
    "    keras.layers.Conv2D(16, kernel_size=(3, 3), activation='relu'),\n",
    "    keras.layers.MaxPooling2D(pool_size=(2, 2)),\n",
    "\n",
    "    keras.layers.Conv2D(16, kernel_size=(3, 3), activation='relu'),\n",
    "    keras.layers.MaxPooling2D(pool_size=(2, 2)),\n",
    "\n",
    "    keras.layers.Conv2D(32, kernel_size=(5, 5), activation='relu'),\n",
    "    keras.layers.MaxPooling2D(pool_size=(2, 2)),\n",
    "\n",
    "    keras.layers.Conv2D(64, kernel_size=(7, 7), activation='relu'),\n",
    "    keras.layers.MaxPooling2D(pool_size=(2, 2)),\n",
    "\n",
    "    keras.layers.Conv2D(64, kernel_size=(7, 7), activation='relu'),\n",
    "    keras.layers.MaxPooling2D(pool_size=(2, 2)),\n",
    "\n",
    "    keras.layers.Flatten(),\n",
    "    keras.layers.Dense(256, activation = 'relu'),\n",
    "    keras.layers.Dense(1, activation='sigmoid')\n",
    "])"
   ]
  },
  {
   "cell_type": "code",
   "execution_count": 110,
   "metadata": {},
   "outputs": [],
   "source": [
    "model.compile(optimizer=OPTIMIZER, loss=LOSS, metrics=['accuracy'])"
   ]
  },
  {
   "cell_type": "code",
   "execution_count": 111,
   "metadata": {},
   "outputs": [
    {
     "name": "stdout",
     "output_type": "stream",
     "text": [
      "Model: \"sequential_23\"\n",
      "_________________________________________________________________\n",
      " Layer (type)                Output Shape              Param #   \n",
      "=================================================================\n",
      " resizing_23 (Resizing)      (None, 300, 300, 3)       0         \n",
      "                                                                 \n",
      " conv2d_92 (Conv2D)          (None, 298, 298, 16)      448       \n",
      "                                                                 \n",
      " max_pooling2d_92 (MaxPoolin  (None, 149, 149, 16)     0         \n",
      " g2D)                                                            \n",
      "                                                                 \n",
      " conv2d_93 (Conv2D)          (None, 147, 147, 16)      2320      \n",
      "                                                                 \n",
      " max_pooling2d_93 (MaxPoolin  (None, 73, 73, 16)       0         \n",
      " g2D)                                                            \n",
      "                                                                 \n",
      " conv2d_94 (Conv2D)          (None, 69, 69, 32)        12832     \n",
      "                                                                 \n",
      " max_pooling2d_94 (MaxPoolin  (None, 34, 34, 32)       0         \n",
      " g2D)                                                            \n",
      "                                                                 \n",
      " conv2d_95 (Conv2D)          (None, 28, 28, 64)        100416    \n",
      "                                                                 \n",
      " max_pooling2d_95 (MaxPoolin  (None, 14, 14, 64)       0         \n",
      " g2D)                                                            \n",
      "                                                                 \n",
      " conv2d_96 (Conv2D)          (None, 8, 8, 64)          200768    \n",
      "                                                                 \n",
      " max_pooling2d_96 (MaxPoolin  (None, 4, 4, 64)         0         \n",
      " g2D)                                                            \n",
      "                                                                 \n",
      " flatten_22 (Flatten)        (None, 1024)              0         \n",
      "                                                                 \n",
      " dense_46 (Dense)            (None, 256)               262400    \n",
      "                                                                 \n",
      " dense_47 (Dense)            (None, 1)                 257       \n",
      "                                                                 \n",
      "=================================================================\n",
      "Total params: 579,441\n",
      "Trainable params: 579,441\n",
      "Non-trainable params: 0\n",
      "_________________________________________________________________\n"
     ]
    }
   ],
   "source": [
    "model.summary()"
   ]
  },
  {
   "cell_type": "code",
   "execution_count": 112,
   "metadata": {},
   "outputs": [
    {
     "name": "stdout",
     "output_type": "stream",
     "text": [
      "Epoch 1/5\n",
      "1378/1378 [==============================] - 168s 121ms/step - loss: 0.5910 - accuracy: 0.6775 - val_loss: 0.4661 - val_accuracy: 0.7888\n",
      "Epoch 2/5\n",
      "1378/1378 [==============================] - 166s 121ms/step - loss: 0.1595 - accuracy: 0.9491 - val_loss: 0.2227 - val_accuracy: 0.9351\n",
      "Epoch 3/5\n",
      "1378/1378 [==============================] - 166s 121ms/step - loss: 0.1390 - accuracy: 0.9550 - val_loss: 0.2034 - val_accuracy: 0.9376\n",
      "Epoch 4/5\n",
      "1378/1378 [==============================] - 167s 121ms/step - loss: 0.1309 - accuracy: 0.9571 - val_loss: 0.1885 - val_accuracy: 0.9427\n",
      "Epoch 5/5\n",
      "1378/1378 [==============================] - 166s 121ms/step - loss: 0.1230 - accuracy: 0.9578 - val_loss: 0.1786 - val_accuracy: 0.9434\n"
     ]
    }
   ],
   "source": [
    "history = model.fit(training_images, training_labels, epochs=EPOCHS, validation_data=(validation_images, validation_labels), batch_size=BATCH_SIZE, shuffle=True)"
   ]
  },
  {
   "cell_type": "code",
   "execution_count": 116,
   "metadata": {},
   "outputs": [
    {
     "data": {
      "image/png": "[encoded data removed]",
      "text/plain": [
       "<Figure size 432x288 with 1 Axes>"
      ]
     },
     "metadata": {
      "needs_background": "light"
     },
     "output_type": "display_data"
    },
    {
     "data": {
      "image/png": "[encoded data removed]",
      "text/plain": [
       "<Figure size 432x288 with 1 Axes>"
      ]
     },
     "metadata": {
      "needs_background": "light"
     },
     "output_type": "display_data"
    }
   ],
   "source": [
    "def plot_graphs(history, string):\n",
    "  plt.plot(history.history[string])\n",
    "  plt.plot(history.history['val_'+string])\n",
    "  plt.legend(['training', 'validation'])\n",
    "  plt.xlabel(\"Epochs\")\n",
    "  plt.ylabel(string)\n",
    "  plt.show()\n",
    "\n",
    "# Visualize the accuracy\n",
    "plot_graphs(history, 'accuracy')\n",
    "plot_graphs(history, 'loss')"
   ]
  },
  {
   "cell_type": "code",
   "execution_count": 113,
   "metadata": {},
   "outputs": [
    {
     "name": "stdout",
     "output_type": "stream",
     "text": [
      "87/87 [==============================] - 9s 89ms/step - loss: 0.2599 - accuracy: 0.9343\n"
     ]
    },
    {
     "data": {
      "text/plain": [
       "[0.2599414587020874, 0.934325098991394]"
      ]
     },
     "execution_count": 113,
     "metadata": {},
     "output_type": "execute_result"
    }
   ],
   "source": [
    "model.evaluate(test_images, test_labels)"
   ]
  },
  {
   "cell_type": "code",
   "execution_count": 114,
   "metadata": {},
   "outputs": [],
   "source": [
    "model.save('../models/malaria_cell_cnn.h5')"
   ]
  }
 ],
 "metadata": {
  "kernelspec": {
   "display_name": "Python 3.9.0 64-bit",
   "language": "python",
   "name": "python3"
  },
  "language_info": {
   "codemirror_mode": {
    "name": "ipython",
    "version": 3
   },
   "file_extension": ".py",
   "mimetype": "text/x-python",
   "name": "python",
   "nbconvert_exporter": "python",
   "pygments_lexer": "ipython3",
   "version": "3.9.0"
  },
  "orig_nbformat": 4,
  "vscode": {
   "interpreter": {
    "hash": "11938c6bc6919ae2720b4d5011047913343b08a43b18698fd82dedb0d4417594"
   }
  }
 },
 "nbformat": 4,
 "nbformat_minor": 2
}
